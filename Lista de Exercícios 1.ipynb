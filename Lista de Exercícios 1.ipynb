{
 "cells": [
  {
   "cell_type": "code",
   "execution_count": 4,
   "metadata": {},
   "outputs": [
    {
     "name": "stdout",
     "output_type": "stream",
     "text": [
      "Olá seja bem vindo\n",
      "digite seu nome: Luna\n",
      "Digite sua idade:1\n",
      "Você ainda não é maior de idade\n"
     ]
    }
   ],
   "source": [
    "#1 Faça um programa que receba a idade do usuário e diga se ele é maior ou menor de idade.\n",
    "\n",
    "print(\"Olá seja bem vindo\")\n",
    "nome = input(\"digite seu nome: \")\n",
    "idade = int(input(\"Digite sua idade:\" ))\n",
    "\n",
    "if idade >= 18:\n",
    "    print(\"Parabéns você já é maior de idade\")\n",
    "else: \n",
    "    print(\"Você ainda não é maior de idade\")\n",
    "\n"
   ]
  },
  {
   "cell_type": "code",
   "execution_count": 13,
   "metadata": {},
   "outputs": [
    {
     "name": "stdout",
     "output_type": "stream",
     "text": [
      "Olá seja bem vindo\n",
      "digite o seu nome: Luiza\n",
      "digite a nota da sua primeira prova: 9\n",
      "digite a nota da sua segunda prova: 10\n",
      "Luiza  , Parabéns você está aprovado(a).\n"
     ]
    }
   ],
   "source": [
    "#2 Faça um programa que receba duas notas digitadas pelo usuário.\n",
    "#Se a média for maior ou igual a seis, escreva aprovado, senão escreva reprovado. \n",
    "\n",
    "print(\"Olá seja bem vindo\")\n",
    "\n",
    "nome = input(\"digite o seu nome: \")\n",
    "\n",
    "nota_1 = float(input(\"digite a nota da sua primeira prova: \"))\n",
    "nota_2 = float(input(\"digite a nota da sua segunda prova: \"))\n",
    "media = (nota_1 + nota_2) / 2\n",
    "\n",
    "if media >= 6:\n",
    "    print(nome, \" , Parabéns você está aprovado(a).\")\n",
    "else:\n",
    "    print(nome, \" , Infelizmente você não passou, refaça as provas e retorne.\")\n",
    "    "
   ]
  },
  {
   "cell_type": "code",
   "execution_count": 28,
   "metadata": {},
   "outputs": [
    {
     "name": "stdout",
     "output_type": "stream",
     "text": [
      "Digite o valor de A: 5\n",
      "Digite o valor de B: 4\n",
      "Digite o valor de C: 7\n"
     ]
    },
    {
     "ename": "ValueError",
     "evalue": "math domain error",
     "output_type": "error",
     "traceback": [
      "\u001b[1;31m---------------------------------------------------------------------------\u001b[0m",
      "\u001b[1;31mValueError\u001b[0m                                Traceback (most recent call last)",
      "\u001b[1;32m<ipython-input-28-65df5aa01540>\u001b[0m in \u001b[0;36m<module>\u001b[1;34m\u001b[0m\n\u001b[0;32m     13\u001b[0m \u001b[1;33m\u001b[0m\u001b[0m\n\u001b[0;32m     14\u001b[0m \u001b[0mdelta\u001b[0m \u001b[1;33m=\u001b[0m \u001b[0mb\u001b[0m\u001b[1;33m**\u001b[0m\u001b[1;36m2\u001b[0m \u001b[1;33m-\u001b[0m \u001b[1;36m4\u001b[0m\u001b[1;33m*\u001b[0m\u001b[0ma\u001b[0m\u001b[1;33m*\u001b[0m\u001b[0mc\u001b[0m\u001b[1;33m\u001b[0m\u001b[1;33m\u001b[0m\u001b[0m\n\u001b[1;32m---> 15\u001b[1;33m \u001b[0mraiz_delta\u001b[0m \u001b[1;33m=\u001b[0m \u001b[0msqrt\u001b[0m\u001b[1;33m(\u001b[0m\u001b[0mdelta\u001b[0m\u001b[1;33m)\u001b[0m\u001b[1;33m\u001b[0m\u001b[1;33m\u001b[0m\u001b[0m\n\u001b[0m\u001b[0;32m     16\u001b[0m \u001b[1;33m\u001b[0m\u001b[0m\n\u001b[0;32m     17\u001b[0m \u001b[1;32mif\u001b[0m \u001b[0mraiz_delta\u001b[0m \u001b[1;33m<\u001b[0m \u001b[1;36m0\u001b[0m\u001b[1;33m:\u001b[0m\u001b[1;33m\u001b[0m\u001b[1;33m\u001b[0m\u001b[0m\n",
      "\u001b[1;31mValueError\u001b[0m: math domain error"
     ]
    }
   ],
   "source": [
    "#Escreva um programa que resolva uma equação de segundo grau.\n",
    "#x² - 3 = 4x + 2\n",
    "\n",
    "#print(\"Olá seja bem vindo\")\n",
    "#x = int(input(\"Digite o valor de x : \"))\n",
    "#resultado = (x**2-3)/(4*x+2)\n",
    "#print(resultado)\n",
    "\n",
    "from math import sqrt\n",
    "a = int(input(\"Digite o valor de A: \"))\n",
    "b = int(input(\"Digite o valor de B: \"))\n",
    "c = int(input(\"Digite o valor de C: \"))\n",
    " \n",
    "delta = b**2 - 4*a*c\n",
    "raiz_delta = sqrt(delta)\n",
    " \n",
    "if raiz_delta < 0:\n",
    "    print(\"Delta negativo\")\n",
    "else:\n",
    "    x1 = (-b + raiz_delta)/2*a\n",
    "    x2 = (-b + raiz_delta)/2*a\n",
    " \n",
    "    print(\"As raízes são\", x1, \"e\", x2)\n"
   ]
  },
  {
   "cell_type": "code",
   "execution_count": 18,
   "metadata": {},
   "outputs": [
    {
     "name": "stdout",
     "output_type": "stream",
     "text": [
      "[50, 99, 400]\n"
     ]
    }
   ],
   "source": [
    "#Escreva um programa que ordene uma lista numérica com três elementos.   \n",
    "\n",
    "lista_1 = [99,400,50]\n",
    "lista_1.sort()\n",
    "print(lista_1)"
   ]
  },
  {
   "cell_type": "code",
   "execution_count": 29,
   "metadata": {},
   "outputs": [
    {
     "name": "stdout",
     "output_type": "stream",
     "text": [
      "Olá, seja bem vindo\n",
      "digite o primeiro número: 2\n",
      "digite o segundo número: 4\n",
      "Digite a operação matemática que deseja fazer: somar, subtrair, multiplicar, dividir : soma\n",
      "-5\n"
     ]
    }
   ],
   "source": [
    "#Escreva um programa que receba dois números e um sinal, e faça a operação matemática definida pelo sinal.\n",
    "\n",
    "print(\"Olá, seja bem vindo\")\n",
    "numero_1 = int(input(\"digite o primeiro número: \"))\n",
    "numero_2 = int(input(\"digite o segundo número: \"))\n",
    "funcao = str(input(\"Digite a operação matemática que deseja fazer: somar, subtrair, multiplicar, dividir : \"))\n",
    "\n",
    "if funcao == \"multiplicar\":\n",
    "    resultado = numero_1 * numero_2\n",
    "    \n",
    "if funcao == \"subtrair\":\n",
    "    resultado = numero_1 - numero_2\n",
    "    \n",
    "if funcao == \"somar\":\n",
    "    resultado = numero_1 + numero_2\n",
    "    \n",
    "if funcao == \"dividir\":\n",
    "    resultado = numero_1 / numero_2\n",
    "    \n",
    "print(resultado)"
   ]
  },
  {
   "cell_type": "code",
   "execution_count": 31,
   "metadata": {},
   "outputs": [
    {
     "name": "stdout",
     "output_type": "stream",
     "text": [
      "Digite o primeiro número: 5\n",
      "Digite o sinal: +\n",
      "Digite o segundo número: 5\n",
      "10\n"
     ]
    }
   ],
   "source": [
    "#solução alternativa do professor\n",
    "\n",
    "n1 = int(input(\"Digite o primeiro número: \"))\n",
    "sinal = input(\"Digite o sinal: \")\n",
    "n2 = int(input(\"Digite o segundo número: \"))\n",
    " \n",
    "if sinal == \"+\":\n",
    "    op = n1 + n2\n",
    " \n",
    "elif sinal == \"-\":\n",
    "    op = n1 - n2\n",
    " \n",
    "elif sinal == \"/\":\n",
    "    op = n1 + n2\n",
    " \n",
    "elif sinal == \"*\":\n",
    "    op = n1 * n2\n",
    " \n",
    "else:\n",
    "    print(\"Sinal inválido.\")\n",
    " \n",
    "print(op)"
   ]
  }
 ],
 "metadata": {
  "kernelspec": {
   "display_name": "Python 3",
   "language": "python",
   "name": "python3"
  },
  "language_info": {
   "codemirror_mode": {
    "name": "ipython",
    "version": 3
   },
   "file_extension": ".py",
   "mimetype": "text/x-python",
   "name": "python",
   "nbconvert_exporter": "python",
   "pygments_lexer": "ipython3",
   "version": "3.8.5"
  }
 },
 "nbformat": 4,
 "nbformat_minor": 4
}
